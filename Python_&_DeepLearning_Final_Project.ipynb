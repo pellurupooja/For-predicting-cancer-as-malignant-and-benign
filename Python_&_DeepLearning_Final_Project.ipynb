{
  "nbformat": 4,
  "nbformat_minor": 0,
  "metadata": {
    "colab": {
      "name": "Python & DeepLearning-Final Project.ipynb",
      "provenance": [],
      "collapsed_sections": [],
      "authorship_tag": "ABX9TyMduvGgp4PxIm+d8a0vlpjK",
      "include_colab_link": true
    },
    "kernelspec": {
      "name": "python3",
      "display_name": "Python 3"
    },
    "language_info": {
      "name": "python"
    }
  },
  "cells": [
    {
      "cell_type": "markdown",
      "metadata": {
        "id": "view-in-github",
        "colab_type": "text"
      },
      "source": [
        "<a href=\"https://colab.research.google.com/github/pellurupooja/For-predicting-cancer-as-malignant-and-benign/blob/main/Python_%26_DeepLearning_Final_Project.ipynb\" target=\"_parent\"><img src=\"https://colab.research.google.com/assets/colab-badge.svg\" alt=\"Open In Colab\"/></a>"
      ]
    },
    {
      "cell_type": "markdown",
      "metadata": {
        "id": "GBey0BjWvy5W"
      },
      "source": [
        "**For Predicting Cancer as Malignant or benign by Deep Neural Network**"
      ]
    },
    {
      "cell_type": "code",
      "metadata": {
        "id": "v2zvnF4guT5U"
      },
      "source": [
        "## IMPORTING DATASET\n",
        "from sklearn.datasets import load_breast_cancer\n",
        "Data=load_breast_cancer()"
      ],
      "execution_count": null,
      "outputs": []
    },
    {
      "cell_type": "code",
      "metadata": {
        "colab": {
          "base_uri": "https://localhost:8080/"
        },
        "id": "4rCQLt9Qukbz",
        "outputId": "e9231efe-bd6d-4705-d12c-4f204a29fac9"
      },
      "source": [
        "print(Data.DESCR)"
      ],
      "execution_count": null,
      "outputs": [
        {
          "output_type": "stream",
          "text": [
            ".. _breast_cancer_dataset:\n",
            "\n",
            "Breast cancer wisconsin (diagnostic) dataset\n",
            "--------------------------------------------\n",
            "\n",
            "**Data Set Characteristics:**\n",
            "\n",
            "    :Number of Instances: 569\n",
            "\n",
            "    :Number of Attributes: 30 numeric, predictive attributes and the class\n",
            "\n",
            "    :Attribute Information:\n",
            "        - radius (mean of distances from center to points on the perimeter)\n",
            "        - texture (standard deviation of gray-scale values)\n",
            "        - perimeter\n",
            "        - area\n",
            "        - smoothness (local variation in radius lengths)\n",
            "        - compactness (perimeter^2 / area - 1.0)\n",
            "        - concavity (severity of concave portions of the contour)\n",
            "        - concave points (number of concave portions of the contour)\n",
            "        - symmetry \n",
            "        - fractal dimension (\"coastline approximation\" - 1)\n",
            "\n",
            "        The mean, standard error, and \"worst\" or largest (mean of the three\n",
            "        largest values) of these features were computed for each image,\n",
            "        resulting in 30 features.  For instance, field 3 is Mean Radius, field\n",
            "        13 is Radius SE, field 23 is Worst Radius.\n",
            "\n",
            "        - class:\n",
            "                - WDBC-Malignant\n",
            "                - WDBC-Benign\n",
            "\n",
            "    :Summary Statistics:\n",
            "\n",
            "    ===================================== ====== ======\n",
            "                                           Min    Max\n",
            "    ===================================== ====== ======\n",
            "    radius (mean):                        6.981  28.11\n",
            "    texture (mean):                       9.71   39.28\n",
            "    perimeter (mean):                     43.79  188.5\n",
            "    area (mean):                          143.5  2501.0\n",
            "    smoothness (mean):                    0.053  0.163\n",
            "    compactness (mean):                   0.019  0.345\n",
            "    concavity (mean):                     0.0    0.427\n",
            "    concave points (mean):                0.0    0.201\n",
            "    symmetry (mean):                      0.106  0.304\n",
            "    fractal dimension (mean):             0.05   0.097\n",
            "    radius (standard error):              0.112  2.873\n",
            "    texture (standard error):             0.36   4.885\n",
            "    perimeter (standard error):           0.757  21.98\n",
            "    area (standard error):                6.802  542.2\n",
            "    smoothness (standard error):          0.002  0.031\n",
            "    compactness (standard error):         0.002  0.135\n",
            "    concavity (standard error):           0.0    0.396\n",
            "    concave points (standard error):      0.0    0.053\n",
            "    symmetry (standard error):            0.008  0.079\n",
            "    fractal dimension (standard error):   0.001  0.03\n",
            "    radius (worst):                       7.93   36.04\n",
            "    texture (worst):                      12.02  49.54\n",
            "    perimeter (worst):                    50.41  251.2\n",
            "    area (worst):                         185.2  4254.0\n",
            "    smoothness (worst):                   0.071  0.223\n",
            "    compactness (worst):                  0.027  1.058\n",
            "    concavity (worst):                    0.0    1.252\n",
            "    concave points (worst):               0.0    0.291\n",
            "    symmetry (worst):                     0.156  0.664\n",
            "    fractal dimension (worst):            0.055  0.208\n",
            "    ===================================== ====== ======\n",
            "\n",
            "    :Missing Attribute Values: None\n",
            "\n",
            "    :Class Distribution: 212 - Malignant, 357 - Benign\n",
            "\n",
            "    :Creator:  Dr. William H. Wolberg, W. Nick Street, Olvi L. Mangasarian\n",
            "\n",
            "    :Donor: Nick Street\n",
            "\n",
            "    :Date: November, 1995\n",
            "\n",
            "This is a copy of UCI ML Breast Cancer Wisconsin (Diagnostic) datasets.\n",
            "https://goo.gl/U2Uwz2\n",
            "\n",
            "Features are computed from a digitized image of a fine needle\n",
            "aspirate (FNA) of a breast mass.  They describe\n",
            "characteristics of the cell nuclei present in the image.\n",
            "\n",
            "Separating plane described above was obtained using\n",
            "Multisurface Method-Tree (MSM-T) [K. P. Bennett, \"Decision Tree\n",
            "Construction Via Linear Programming.\" Proceedings of the 4th\n",
            "Midwest Artificial Intelligence and Cognitive Science Society,\n",
            "pp. 97-101, 1992], a classification method which uses linear\n",
            "programming to construct a decision tree.  Relevant features\n",
            "were selected using an exhaustive search in the space of 1-4\n",
            "features and 1-3 separating planes.\n",
            "\n",
            "The actual linear program used to obtain the separating plane\n",
            "in the 3-dimensional space is that described in:\n",
            "[K. P. Bennett and O. L. Mangasarian: \"Robust Linear\n",
            "Programming Discrimination of Two Linearly Inseparable Sets\",\n",
            "Optimization Methods and Software 1, 1992, 23-34].\n",
            "\n",
            "This database is also available through the UW CS ftp server:\n",
            "\n",
            "ftp ftp.cs.wisc.edu\n",
            "cd math-prog/cpo-dataset/machine-learn/WDBC/\n",
            "\n",
            ".. topic:: References\n",
            "\n",
            "   - W.N. Street, W.H. Wolberg and O.L. Mangasarian. Nuclear feature extraction \n",
            "     for breast tumor diagnosis. IS&T/SPIE 1993 International Symposium on \n",
            "     Electronic Imaging: Science and Technology, volume 1905, pages 861-870,\n",
            "     San Jose, CA, 1993.\n",
            "   - O.L. Mangasarian, W.N. Street and W.H. Wolberg. Breast cancer diagnosis and \n",
            "     prognosis via linear programming. Operations Research, 43(4), pages 570-577, \n",
            "     July-August 1995.\n",
            "   - W.H. Wolberg, W.N. Street, and O.L. Mangasarian. Machine learning techniques\n",
            "     to diagnose breast cancer from fine-needle aspirates. Cancer Letters 77 (1994) \n",
            "     163-171.\n"
          ],
          "name": "stdout"
        }
      ]
    },
    {
      "cell_type": "code",
      "metadata": {
        "id": "_wgnuszcuq4E"
      },
      "source": [
        "features = Data.data\n",
        "target = Data.target"
      ],
      "execution_count": null,
      "outputs": []
    },
    {
      "cell_type": "code",
      "metadata": {
        "colab": {
          "base_uri": "https://localhost:8080/"
        },
        "id": "WzVmkQKsuzXT",
        "outputId": "69169cd7-ad71-412d-a14a-80fbbb887d4a"
      },
      "source": [
        "print(features.shape)\n",
        "print(target.shape)"
      ],
      "execution_count": null,
      "outputs": [
        {
          "output_type": "stream",
          "text": [
            "(569, 30)\n",
            "(569,)\n"
          ],
          "name": "stdout"
        }
      ]
    },
    {
      "cell_type": "code",
      "metadata": {
        "colab": {
          "base_uri": "https://localhost:8080/"
        },
        "id": "gzuXGyzZu43L",
        "outputId": "2c3015f9-a5f0-474b-f28b-8945a50d1abd"
      },
      "source": [
        "from sklearn.model_selection import train_test_split\n",
        "X_train, X_test, y_train, y_test = train_test_split(features, target, test_size=0.2)\n",
        "print(X_train.shape)\n",
        "print(y_train.shape)\n",
        "print(X_test.shape)\n",
        "print(y_test.shape)"
      ],
      "execution_count": null,
      "outputs": [
        {
          "output_type": "stream",
          "text": [
            "(455, 30)\n",
            "(455,)\n",
            "(114, 30)\n",
            "(114,)\n"
          ],
          "name": "stdout"
        }
      ]
    },
    {
      "cell_type": "code",
      "metadata": {
        "id": "eGgmDn9vu867"
      },
      "source": [
        "from keras.models import Sequential\n",
        "from keras.layers import Dense"
      ],
      "execution_count": null,
      "outputs": []
    },
    {
      "cell_type": "code",
      "metadata": {
        "id": "PEC4fkYGvBJz"
      },
      "source": [
        "model=Sequential()\n",
        "model.add(Dense(32, input_dim=30, activation='relu')) ##hidden layer 1\n",
        "model.add(Dense(64, activation='relu'))##hidden layer 2\n",
        "model.add(Dense(1, activation='sigmoid'))"
      ],
      "execution_count": null,
      "outputs": []
    },
    {
      "cell_type": "code",
      "metadata": {
        "id": "BVfWpquivGmT"
      },
      "source": [
        "model.compile(loss='binary_crossentropy',optimizer='adam',metrics=['accuracy'])"
      ],
      "execution_count": null,
      "outputs": []
    },
    {
      "cell_type": "code",
      "metadata": {
        "colab": {
          "base_uri": "https://localhost:8080/"
        },
        "id": "o5I1qDS6vHDT",
        "outputId": "1f818fd9-1aca-42a4-f0d4-cae4e139c131"
      },
      "source": [
        "model.summary()"
      ],
      "execution_count": null,
      "outputs": [
        {
          "output_type": "stream",
          "text": [
            "Model: \"sequential\"\n",
            "_________________________________________________________________\n",
            "Layer (type)                 Output Shape              Param #   \n",
            "=================================================================\n",
            "dense (Dense)                (None, 32)                992       \n",
            "_________________________________________________________________\n",
            "dense_1 (Dense)              (None, 64)                2112      \n",
            "_________________________________________________________________\n",
            "dense_2 (Dense)              (None, 1)                 65        \n",
            "=================================================================\n",
            "Total params: 3,169\n",
            "Trainable params: 3,169\n",
            "Non-trainable params: 0\n",
            "_________________________________________________________________\n"
          ],
          "name": "stdout"
        }
      ]
    },
    {
      "cell_type": "code",
      "metadata": {
        "colab": {
          "base_uri": "https://localhost:8080/"
        },
        "id": "y2qV_KA7vQIE",
        "outputId": "f9c2eae6-41ee-47a0-988c-1ae31b7a12be"
      },
      "source": [
        "model.fit(X_train,y_train,epochs=10)"
      ],
      "execution_count": null,
      "outputs": [
        {
          "output_type": "stream",
          "text": [
            "Epoch 1/10\n",
            "15/15 [==============================] - 1s 2ms/step - loss: 95.4385 - accuracy: 0.6198\n",
            "Epoch 2/10\n",
            "15/15 [==============================] - 0s 2ms/step - loss: 13.0657 - accuracy: 0.4220\n",
            "Epoch 3/10\n",
            "15/15 [==============================] - 0s 2ms/step - loss: 5.1761 - accuracy: 0.5868\n",
            "Epoch 4/10\n",
            "15/15 [==============================] - 0s 2ms/step - loss: 0.9194 - accuracy: 0.8484\n",
            "Epoch 5/10\n",
            "15/15 [==============================] - 0s 2ms/step - loss: 0.5683 - accuracy: 0.8813\n",
            "Epoch 6/10\n",
            "15/15 [==============================] - 0s 2ms/step - loss: 0.4116 - accuracy: 0.8989\n",
            "Epoch 7/10\n",
            "15/15 [==============================] - 0s 2ms/step - loss: 0.3634 - accuracy: 0.8879\n",
            "Epoch 8/10\n",
            "15/15 [==============================] - 0s 2ms/step - loss: 0.3872 - accuracy: 0.8901\n",
            "Epoch 9/10\n",
            "15/15 [==============================] - 0s 2ms/step - loss: 0.3265 - accuracy: 0.9033\n",
            "Epoch 10/10\n",
            "15/15 [==============================] - 0s 2ms/step - loss: 0.2769 - accuracy: 0.9143\n"
          ],
          "name": "stdout"
        },
        {
          "output_type": "execute_result",
          "data": {
            "text/plain": [
              "<keras.callbacks.History at 0x7f6775b0ee90>"
            ]
          },
          "metadata": {},
          "execution_count": 10
        }
      ]
    },
    {
      "cell_type": "code",
      "metadata": {
        "colab": {
          "base_uri": "https://localhost:8080/"
        },
        "id": "oaNWSgjTvYks",
        "outputId": "d04d4fd5-8cc3-44fe-a526-f728bf28536b"
      },
      "source": [
        "scores=model.evaluate(X_test,y_test)\n",
        "print(scores)##returns loss and accuracy"
      ],
      "execution_count": null,
      "outputs": [
        {
          "output_type": "stream",
          "text": [
            "4/4 [==============================] - 0s 3ms/step - loss: 0.4604 - accuracy: 0.9211\n",
            "[0.4604319632053375, 0.9210526347160339]\n"
          ],
          "name": "stdout"
        }
      ]
    },
    {
      "cell_type": "code",
      "metadata": {
        "colab": {
          "base_uri": "https://localhost:8080/"
        },
        "id": "injeczRxvam7",
        "outputId": "48d03970-cba9-4085-d310-477fdf663fcd"
      },
      "source": [
        "predictions=model.predict(X_test)\n",
        "label=[]\n",
        "for prend in predictions:\n",
        "  if prend>=0.5:\n",
        "    print(\"Malignant\")\n",
        "  else:\n",
        "      print(\"Benign\")"
      ],
      "execution_count": null,
      "outputs": [
        {
          "output_type": "stream",
          "text": [
            "Benign\n",
            "Benign\n",
            "Malignant\n",
            "Malignant\n",
            "Malignant\n",
            "Benign\n",
            "Malignant\n",
            "Malignant\n",
            "Benign\n",
            "Malignant\n",
            "Malignant\n",
            "Malignant\n",
            "Benign\n",
            "Benign\n",
            "Benign\n",
            "Malignant\n",
            "Benign\n",
            "Malignant\n",
            "Benign\n",
            "Malignant\n",
            "Benign\n",
            "Malignant\n",
            "Benign\n",
            "Malignant\n",
            "Malignant\n",
            "Malignant\n",
            "Benign\n",
            "Malignant\n",
            "Malignant\n",
            "Malignant\n",
            "Malignant\n",
            "Malignant\n",
            "Malignant\n",
            "Benign\n",
            "Malignant\n",
            "Malignant\n",
            "Malignant\n",
            "Benign\n",
            "Benign\n",
            "Malignant\n",
            "Malignant\n",
            "Benign\n",
            "Malignant\n",
            "Malignant\n",
            "Benign\n",
            "Malignant\n",
            "Malignant\n",
            "Benign\n",
            "Malignant\n",
            "Malignant\n",
            "Malignant\n",
            "Malignant\n",
            "Benign\n",
            "Malignant\n",
            "Malignant\n",
            "Benign\n",
            "Benign\n",
            "Malignant\n",
            "Benign\n",
            "Malignant\n",
            "Malignant\n",
            "Benign\n",
            "Malignant\n",
            "Malignant\n",
            "Malignant\n",
            "Malignant\n",
            "Benign\n",
            "Malignant\n",
            "Benign\n",
            "Malignant\n",
            "Malignant\n",
            "Benign\n",
            "Malignant\n",
            "Malignant\n",
            "Malignant\n",
            "Benign\n",
            "Malignant\n",
            "Malignant\n",
            "Malignant\n",
            "Benign\n",
            "Benign\n",
            "Malignant\n",
            "Malignant\n",
            "Malignant\n",
            "Malignant\n",
            "Malignant\n",
            "Malignant\n",
            "Malignant\n",
            "Benign\n",
            "Malignant\n",
            "Malignant\n",
            "Malignant\n",
            "Malignant\n",
            "Malignant\n",
            "Malignant\n",
            "Malignant\n",
            "Malignant\n",
            "Malignant\n",
            "Malignant\n",
            "Malignant\n",
            "Malignant\n",
            "Malignant\n",
            "Malignant\n",
            "Malignant\n",
            "Malignant\n",
            "Malignant\n",
            "Malignant\n",
            "Malignant\n",
            "Malignant\n",
            "Benign\n",
            "Malignant\n",
            "Malignant\n",
            "Malignant\n",
            "Malignant\n"
          ],
          "name": "stdout"
        }
      ]
    }
  ]
}